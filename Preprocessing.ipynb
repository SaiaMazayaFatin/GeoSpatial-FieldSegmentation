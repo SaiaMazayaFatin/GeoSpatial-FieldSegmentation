version https://git-lfs.github.com/spec/v1
oid sha256:86752c8e64afd931d2138a6a27144042bda1839b2bbd39b3f51ad60814061a42
size 120019406
